{
 "cells": [
  {
   "cell_type": "code",
   "execution_count": 0,
   "metadata": {
    "application/vnd.databricks.v1+cell": {
     "cellMetadata": {
      "byteLimit": 2048000,
      "rowLimit": 10000
     },
     "inputWidgets": {},
     "nuid": "a10256ed-7d51-44fd-b1b0-5b995ecf7adf",
     "showTitle": false,
     "tableResultSettingsMap": {},
     "title": ""
    }
   },
   "outputs": [],
   "source": [
    "files =[\n",
    "\n",
    "    {\n",
    "        \"sourcefolder\" :\"Netflix_cast\",\n",
    "        \"targetfolder\" :\"Netflix_cast\"\n",
    "    },\n",
    "    {\n",
    "        \"sourcefolder\" :\"Netflix_directors\",\n",
    "        \"targetfolder\" :\"Netflix_directors\"\n",
    "    },\n",
    "    {\n",
    "        \"sourcefolder\" :\"Netflix_category\",\n",
    "        \"targetfolder\" :\"Netflix_category\"\n",
    "    },\n",
    "    {\n",
    "        \"sourcefolder\" :\"Netflix_countries\",\n",
    "        \"targetfolder\" :\"Netflix_countries\"\n",
    "    }\n",
    "\n",
    "]"
   ]
  },
  {
   "cell_type": "code",
   "execution_count": 0,
   "metadata": {
    "application/vnd.databricks.v1+cell": {
     "cellMetadata": {
      "byteLimit": 2048000,
      "rowLimit": 10000
     },
     "inputWidgets": {},
     "nuid": "04e168e8-45eb-40e4-83f7-c4df30f6aad8",
     "showTitle": false,
     "tableResultSettingsMap": {},
     "title": ""
    }
   },
   "outputs": [],
   "source": [
    "dbutils.jobs.taskValues.set(key=\"my_arr\",value= files)"
   ]
  }
 ],
 "metadata": {
  "application/vnd.databricks.v1+notebook": {
   "computePreferences": null,
   "dashboards": [],
   "environmentMetadata": {
    "base_environment": "",
    "environment_version": "2"
   },
   "inputWidgetPreferences": null,
   "language": "python",
   "notebookMetadata": {
    "pythonIndentUnit": 4
   },
   "notebookName": "Lookup",
   "widgets": {}
  },
  "language_info": {
   "name": "python"
  }
 },
 "nbformat": 4,
 "nbformat_minor": 0
}